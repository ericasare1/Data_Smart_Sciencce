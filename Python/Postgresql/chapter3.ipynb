{
 "cells": [
  {
   "cell_type": "markdown",
   "source": [
    "# Tasks\r\n",
    "---\r\n",
    "\r\n",
    "1. We are going to create an imagined table with the CREATE TABLE sql command and insert values into the columns we will create.   \r\n",
    "    * We are going to use the data types to define the columns we will create in the tables.   \r\n",
    "    * We will put some constraints on the columns such as no null values in the columns.   \r\n",
    "2. Create table form an existing table (eg a CSV file).   \r\n",
    "3. Use the insert into command to create a table.   \r\n",
    "\r\n",
    "# Notes for tasks today\r\n",
    "We will use the information in Chapter 2 (data types) for this chapter. Also, below are some notes that will explain what we will be doing today. \r\n",
    "\r\n",
    "# Constraints: What are they?\r\n",
    "They are some restrictions we put on the columns we create in a table. Basically, we force some structure on the columns with the constraints. Common types:   \r\n",
    "\r\n",
    "### _Primary Key_    \r\n",
    "It is a column or group of columns used to identify rows in a table uniquely. For example we will create a household data and in that table each row will show information on each member of the household; to uniquely identify a generate a unique each member we will use PRIMARY KEYS command to identify a column or group of columns to act as such. The PRIMARY KEY command under the hood uses both the **not null** and the **unique** constraints. A useful command is the UNIQUE function which checks the uniqueness of values in a column; so when a value to be inserted is already in the column (say a primary key column) you will get an error.   \r\n",
    "\r\n",
    "### _Foreign Key_   \r\n",
    " We use the \"FOREIGN KEY\" command to constrain column(s) as foreign keys, which is a way to reference the primary key in another variable. Tables in databases have relationships. The tables are linked by using the foreign keys. Some technical terms: the table that contains the foreign key is the child table or referencing table and the parent table is the one referenced.   \r\n",
    "\r\n",
    "### _SET NULL_   \r\n",
    "This constraint **SET NULL* which is used in the **ON DELETE\" clause or with it sets the foreign key values to null if the referenced rows in the parent table are deleted.   \r\n",
    "\r\n",
    "### _CASCADE_ \r\n",
    "In contrast to the SET NULL command the CASCADE used in the ON DELETE clause deletes the referencing rows when the referenced rows in the parent table are deleted. Most widely used.   \r\n",
    "\r\n",
    "### _SET DEFAULT_\r\n",
    "Compared to the SET NULL, it sets the values in the foreign key column of a referencing table to a default value when the referenced rows in a parent table are deleted.\r\n",
    "\r\n",
    "\r\n",
    "### *Check Constraints*   \r\n",
    "It is used when creating tables to specify if values in a column must meet a specific requirement. \r\n"
   ],
   "metadata": {}
  },
  {
   "cell_type": "code",
   "execution_count": null,
   "source": [],
   "outputs": [],
   "metadata": {}
  }
 ],
 "metadata": {
  "orig_nbformat": 4,
  "language_info": {
   "name": "python"
  }
 },
 "nbformat": 4,
 "nbformat_minor": 2
}