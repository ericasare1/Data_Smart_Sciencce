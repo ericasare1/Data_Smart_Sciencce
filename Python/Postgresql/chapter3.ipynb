{
 "cells": [
  {
   "cell_type": "markdown",
   "source": [
    "# Tasks\r\n",
    "---\r\n",
    "\r\n",
    "1. We are going to create an imagined table with the CREATE TABLE sql command and insert values into the columns we will create.   \r\n",
    "    * We are going to use the data types to define the columns we will create in the tables.   \r\n",
    "    * We will put some constraints on the columns such as no null values in the columns.   \r\n",
    "2. Create table form an existing table (eg a CSV file).   \r\n",
    "3. Use the insert into command to create a table.   \r\n",
    "\r\n",
    "# What are constraints\r\n",
    "They are some restrictions we put on the columns we create in a table. Basically, we force some structure on the columns with the constraints. Common types:   \r\n",
    "\r\n",
    "### _Primary Key_    \r\n",
    "It is a column or group of columns used to identify rows in a table uniquely. For example we will create a household data and in that table each row will show information on each member of the household; to uniquely identify a generate a unique numbe"
   ],
   "metadata": {}
  },
  {
   "cell_type": "code",
   "execution_count": null,
   "source": [],
   "outputs": [],
   "metadata": {}
  }
 ],
 "metadata": {
  "orig_nbformat": 4,
  "language_info": {
   "name": "python"
  }
 },
 "nbformat": 4,
 "nbformat_minor": 2
}