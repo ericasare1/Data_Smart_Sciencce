{
 "cells": [
  {
   "cell_type": "code",
   "execution_count": 1,
   "source": [
    "#pip install pandas\r\n",
    "#pip install sqlalchemy # ORM for databases\r\n",
    "#pip install ipython-sql # SQL magic function\r\n",
    "#!pip install mysqlclient\r\n",
    "!pip install psycopg2"
   ],
   "outputs": [
    {
     "output_type": "stream",
     "name": "stdout",
     "text": [
      "Collecting psycopg2\n",
      "  Downloading psycopg2-2.9.1-cp38-cp38-win_amd64.whl (1.1 MB)\n",
      "Installing collected packages: psycopg2\n",
      "Successfully installed psycopg2-2.9.1\n"
     ]
    }
   ],
   "metadata": {}
  },
  {
   "cell_type": "code",
   "execution_count": 2,
   "source": [
    "2*2\r\n"
   ],
   "outputs": [
    {
     "output_type": "execute_result",
     "data": {
      "text/plain": [
       "4"
      ]
     },
     "metadata": {},
     "execution_count": 2
    }
   ],
   "metadata": {}
  },
  {
   "cell_type": "code",
   "execution_count": null,
   "source": [],
   "outputs": [],
   "metadata": {}
  }
 ],
 "metadata": {
  "orig_nbformat": 4,
  "language_info": {
   "name": "python",
   "version": "3.8.10",
   "mimetype": "text/x-python",
   "codemirror_mode": {
    "name": "ipython",
    "version": 3
   },
   "pygments_lexer": "ipython3",
   "nbconvert_exporter": "python",
   "file_extension": ".py"
  },
  "kernelspec": {
   "name": "python3",
   "display_name": "Python 3.8.10 64-bit ('sql_env': conda)"
  },
  "interpreter": {
   "hash": "70f0b68ed509a9f82d67a59a5e6c304b4dbc69c41160795250952fa5f051ad34"
  }
 },
 "nbformat": 4,
 "nbformat_minor": 2
}