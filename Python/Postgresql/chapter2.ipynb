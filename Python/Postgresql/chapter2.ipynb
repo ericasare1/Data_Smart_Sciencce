{
 "cells": [
  {
   "cell_type": "markdown",
   "source": [
    "# What are Data Types of Postgresql\r\n",
    "\r\n",
    "They are the basic information that are used to construct variables. Later we will create tables and data types will be used to define the columns in the tables. So in effect that are the atomic information or fundamental information that shapes databases in postgresql. Therefore, it is extremely important to know what they are.   \r\n",
    "\r\n",
    "# Types of Data Types (the main types)\r\n",
    "\r\n",
    "1. Character: They are also called strings. The are used to construct variables that mathematical operations such as, +, -, /, and so on, performed on them are meaningless. In Postgresql we have three character data types (CHAR(n), VARCHAR(n), and TEXT). TEXT: can be used to construct string variables of unlimited length (the number of characters in the string variable); CHAR(n): with this you fix the length of the string with the parameter n and you get an error if the length of the string > n; VARCHAR(n): it is a variable-length character string where n is the length of the string.  \r\n",
    "\r\n",
    " \r\n",
    "2. Numeric: unlike characters, they are used to create variables on which mathematical operations are meaningful. There are two types, Integers: they are whole numbers such as 10, 30, 25 .... In Postgresql, a variable is declared an integer with INT. A serial is same as integer but Postgresql inserts values in that variable for you. Floats: are mostly used to define numeric variables where precision of important. It is a decimal numeral such as 10.40, 30.01. 25.90 ...   \r\n",
    "   \r\n",
    "     \r\n",
    "3. Temporal: They are used to store data or temporal data. There are 5 main types: a) Date for storing dates b) Time for storing time of the day c) Timestamp: stores date and time d)Timestampz stores date, time and time zone and e)interval stores time periods.   \r\n",
    "\r\n",
    "## In Chapter three we will learn how to use the data types above to create a table of variables. \r\n",
    "\r\n"
   ],
   "metadata": {}
  },
  {
   "cell_type": "markdown",
   "source": [],
   "metadata": {}
  }
 ],
 "metadata": {
  "orig_nbformat": 4,
  "language_info": {
   "name": "python"
  }
 },
 "nbformat": 4,
 "nbformat_minor": 2
}