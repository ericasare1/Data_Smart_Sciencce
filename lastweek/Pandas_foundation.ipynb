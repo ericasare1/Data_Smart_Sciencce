{
 "cells": [
  {
   "cell_type": "markdown",
   "id": "b618667f",
   "metadata": {},
   "source": [
    "# We will first import the already installed pandas.  \n",
    "\n",
    "### Pandas contains data sturctures and data manipulation tools designed to make data analysis fast and easy in python\"....Wes Mckinney (creator of Pandas).  \n",
    "\n",
    "#### a. First install using conda in the Anaconda prompt: conda install pandas or in this notebook with !pip install pandas  \n",
    "#### b. import into the notebook which makes all the functions in it avaialble to use for use as: import pandas as pd (the pd is a pseudo name we are giving to pandas).  \n",
    "\n",
    "# Outline  \n",
    "#### 1. Introduction to pandas Data Structures: Series, DataFrame, Index Objects  \n",
    "#### 2. Essential functions:  \n",
    "   #### 2.1. Reindexing  \n",
    "   #### 2.2 Dropping entries from an axis  \n",
    "  #### 2.3 Indexing, Selection,and Filtering  \n",
    "  #### 2.4 Integer indexes  \n",
    "  #### 2.5 Arithmetic and data alignment  \n",
    "  #### 2.6 Sorting and ranking  \n",
    "  #### 2.7. Axis indexes and duplicate labels\n",
    " \n",
    "        "
   ]
  },
  {
   "cell_type": "code",
   "execution_count": 4,
   "id": "88ac3984",
   "metadata": {},
   "outputs": [],
   "source": [
    "# First things first: import pandas as pd\n",
    "import pandas as pd #library()"
   ]
  },
  {
   "cell_type": "code",
   "execution_count": 5,
   "id": "b079ed1e",
   "metadata": {},
   "outputs": [],
   "source": [
    "# Pandas data structures:\n",
    "from pandas import Series, DataFrame  "
   ]
  },
  {
   "cell_type": "markdown",
   "id": "e8026733",
   "metadata": {},
   "source": [
    "## Series  \n",
    "### Series: A one dimentional array object containing sequence of values and associated array of data lebels called index\n"
   ]
  },
  {
   "cell_type": "code",
   "execution_count": 74,
   "id": "3f7a8ede",
   "metadata": {},
   "outputs": [
    {
     "name": "stdout",
     "output_type": "stream",
     "text": [
      "0     2\n",
      "1     4\n",
      "2     6\n",
      "3     8\n",
      "4    10\n",
      "dtype: int64\n"
     ]
    }
   ],
   "source": [
    "obj = pd.Series([2, 4, 6, 8, 10])\n",
    "print(obj)"
   ]
  },
  {
   "cell_type": "code",
   "execution_count": 76,
   "id": "5e27f25b",
   "metadata": {},
   "outputs": [
    {
     "name": "stdout",
     "output_type": "stream",
     "text": [
      "[ 2  4  6  8 10]\n",
      "RangeIndex(start=0, stop=5, step=1)\n"
     ]
    }
   ],
   "source": [
    "print(obj.values)\n",
    "print(obj.index)"
   ]
  },
  {
   "cell_type": "code",
   "execution_count": 77,
   "id": "26691ded",
   "metadata": {},
   "outputs": [
    {
     "name": "stdout",
     "output_type": "stream",
     "text": [
      "a     2\n",
      "b     4\n",
      "c     6\n",
      "d     8\n",
      "e    10\n",
      "dtype: int64\n"
     ]
    }
   ],
   "source": [
    "#creating your own index to accompany series values\n",
    "obj2 = pd.Series([2, 4, 6, 8, 10], index = [\"a\", 'b', 'c', 'd', 'e'])\n",
    "print(obj2)\n"
   ]
  },
  {
   "cell_type": "code",
   "execution_count": 78,
   "id": "1cfdfb08",
   "metadata": {},
   "outputs": [
    {
     "name": "stdout",
     "output_type": "stream",
     "text": [
      "0     2\n",
      "1     4\n",
      "2     6\n",
      "3     8\n",
      "4   -10\n",
      "dtype: int64\n"
     ]
    }
   ],
   "source": [
    "# we can also create series with dictionaries: dictionaries are key:value pairs\n",
    "dict = {0: 2, 1:4, 2:6, 3:8, 4: -10}\n",
    "obj3 = pd.Series(dict)\n",
    "print(obj3)"
   ]
  },
  {
   "cell_type": "code",
   "execution_count": 83,
   "id": "d246e335",
   "metadata": {},
   "outputs": [
    {
     "name": "stdout",
     "output_type": "stream",
     "text": [
      "2\n",
      "a     2\n",
      "e    10\n",
      "c     6\n",
      "dtype: int64\n"
     ]
    }
   ],
   "source": [
    "# Indexes are ways of indentifying rows and are extremely useful for selecting rows\n",
    "print(obj2['a'])\n",
    "print(obj2[['a','e', 'c']])"
   ]
  },
  {
   "cell_type": "code",
   "execution_count": 84,
   "id": "1974e357",
   "metadata": {},
   "outputs": [
    {
     "name": "stdout",
     "output_type": "stream",
     "text": [
      "gh      2\n",
      "ug      4\n",
      "nig     6\n",
      "uk      8\n",
      "can    10\n",
      "dtype: int64\n"
     ]
    }
   ],
   "source": [
    "# we can change the indexes in place: lets change index of obj2 (a,b,c,d,e) to gh,ug,nig,uk,can\n",
    "obj2.index = ['gh','ug', 'nig','uk', 'can']\n",
    "print(obj2)"
   ]
  },
  {
   "cell_type": "code",
   "execution_count": 15,
   "id": "4b257865",
   "metadata": {},
   "outputs": [
    {
     "name": "stdout",
     "output_type": "stream",
     "text": [
      "gh      4\n",
      "ug      8\n",
      "nig    12\n",
      "uk     16\n",
      "can    20\n",
      "dtype: int64\n"
     ]
    }
   ],
   "source": [
    "#unless u explicitly change the index, their pairs with the values are for live. Ex when i scale the values in obj2 twice\n",
    "print(obj2 *2)"
   ]
  },
  {
   "cell_type": "code",
   "execution_count": 85,
   "id": "d9b83905",
   "metadata": {},
   "outputs": [
    {
     "data": {
      "text/plain": [
       "gh     2\n",
       "ug     4\n",
       "nig    6\n",
       "dtype: int64"
      ]
     },
     "execution_count": 85,
     "metadata": {},
     "output_type": "execute_result"
    }
   ],
   "source": [
    "#dropping rows\n",
    "obj2.drop(['uk', 'can'])"
   ]
  },
  {
   "cell_type": "code",
   "execution_count": 91,
   "id": "2763e008",
   "metadata": {},
   "outputs": [
    {
     "name": "stdout",
     "output_type": "stream",
     "text": [
      "Requirement already satisfied: pandas in c:\\users\\erica\\anaconda3\\envs\\sql\\lib\\site-packages (1.3.2)\n",
      "Requirement already satisfied: python-dateutil>=2.7.3 in c:\\users\\erica\\anaconda3\\envs\\sql\\lib\\site-packages (from pandas) (2.8.2)\n",
      "Requirement already satisfied: numpy>=1.17.3 in c:\\users\\erica\\anaconda3\\envs\\sql\\lib\\site-packages (from pandas) (1.20.3)\n",
      "Requirement already satisfied: pytz>=2017.3 in c:\\users\\erica\\anaconda3\\envs\\sql\\lib\\site-packages (from pandas) (2021.1)\n",
      "Requirement already satisfied: six>=1.5 in c:\\users\\erica\\anaconda3\\envs\\sql\\lib\\site-packages (from python-dateutil>=2.7.3->pandas) (1.16.0)\n"
     ]
    }
   ],
   "source": [
    "!pip install pandas"
   ]
  },
  {
   "cell_type": "code",
   "execution_count": 59,
   "id": "dbd5a96d",
   "metadata": {},
   "outputs": [
    {
     "name": "stdout",
     "output_type": "stream",
     "text": [
      "ug      4\n",
      "nig     6\n",
      "uk      8\n",
      "can    10\n",
      "dtype: int64\n"
     ]
    }
   ],
   "source": [
    "# selecting series\n",
    "print(obj2[obj2>2])\n"
   ]
  },
  {
   "cell_type": "code",
   "execution_count": null,
   "id": "8e11c7c7",
   "metadata": {},
   "outputs": [],
   "source": [
    "# filtering series\n"
   ]
  },
  {
   "cell_type": "markdown",
   "id": "ee22928f",
   "metadata": {},
   "source": [
    "## Data Frame:  \n",
    "###  It is a rectangular table of data and contains a row index and a column index"
   ]
  },
  {
   "cell_type": "code",
   "execution_count": 86,
   "id": "45e81923",
   "metadata": {},
   "outputs": [
    {
     "name": "stdout",
     "output_type": "stream",
     "text": [
      "   regions  population minister\n",
      "0    accra     2000000   samson\n",
      "1      ash     1500000  patrick\n",
      "2  eastern     1000000      aba\n",
      "3    volta      800000     seth\n"
     ]
    }
   ],
   "source": [
    "#we will use the dictionary method to create data frames\n",
    "dict2 = {'regions': ['accra', 'ash', 'eastern', 'volta'],\n",
    "        'population': [2000000, 1500000,1000000, 800000],\n",
    "        'minister': ['samson', 'patrick', 'aba', 'seth']  \n",
    "       }\n",
    "data = pd.DataFrame(dict2)   \n",
    "print(data)"
   ]
  },
  {
   "cell_type": "code",
   "execution_count": 87,
   "id": "14efc0f6",
   "metadata": {},
   "outputs": [
    {
     "data": {
      "text/html": [
       "<div>\n",
       "<style scoped>\n",
       "    .dataframe tbody tr th:only-of-type {\n",
       "        vertical-align: middle;\n",
       "    }\n",
       "\n",
       "    .dataframe tbody tr th {\n",
       "        vertical-align: top;\n",
       "    }\n",
       "\n",
       "    .dataframe thead th {\n",
       "        text-align: right;\n",
       "    }\n",
       "</style>\n",
       "<table border=\"1\" class=\"dataframe\">\n",
       "  <thead>\n",
       "    <tr style=\"text-align: right;\">\n",
       "      <th></th>\n",
       "      <th>regions</th>\n",
       "      <th>minister</th>\n",
       "      <th>population</th>\n",
       "    </tr>\n",
       "  </thead>\n",
       "  <tbody>\n",
       "    <tr>\n",
       "      <th>0</th>\n",
       "      <td>accra</td>\n",
       "      <td>samson</td>\n",
       "      <td>2000000</td>\n",
       "    </tr>\n",
       "    <tr>\n",
       "      <th>1</th>\n",
       "      <td>ash</td>\n",
       "      <td>patrick</td>\n",
       "      <td>1500000</td>\n",
       "    </tr>\n",
       "    <tr>\n",
       "      <th>2</th>\n",
       "      <td>eastern</td>\n",
       "      <td>aba</td>\n",
       "      <td>1000000</td>\n",
       "    </tr>\n",
       "    <tr>\n",
       "      <th>3</th>\n",
       "      <td>volta</td>\n",
       "      <td>seth</td>\n",
       "      <td>800000</td>\n",
       "    </tr>\n",
       "  </tbody>\n",
       "</table>\n",
       "</div>"
      ],
      "text/plain": [
       "   regions minister  population\n",
       "0    accra   samson     2000000\n",
       "1      ash  patrick     1500000\n",
       "2  eastern      aba     1000000\n",
       "3    volta     seth      800000"
      ]
     },
     "execution_count": 87,
     "metadata": {},
     "output_type": "execute_result"
    }
   ],
   "source": [
    "#we can create the dataframe together with an index we so which (instead of 0,1,2,3) like\n",
    "data2 = pd.DataFrame(data, columns = ['regions', 'minister', 'population'])\n",
    "data2"
   ]
  },
  {
   "cell_type": "code",
   "execution_count": 88,
   "id": "1373cddf",
   "metadata": {},
   "outputs": [
    {
     "name": "stdout",
     "output_type": "stream",
     "text": [
      "        minister  population\n",
      "regions                     \n",
      "accra     samson     2000000\n",
      "ash      patrick     1500000\n",
      "eastern      aba     1000000\n",
      "volta       seth      800000\n"
     ]
    }
   ],
   "source": [
    "#we can  use a column as an index:\n",
    "data3 = data2.set_index('regions')\n",
    "print(data3)"
   ]
  },
  {
   "cell_type": "code",
   "execution_count": 90,
   "id": "757f0daa",
   "metadata": {},
   "outputs": [
    {
     "name": "stdout",
     "output_type": "stream",
     "text": [
      "(4, 3)\n",
      "  regions minister  population\n",
      "0   accra   samson     2000000\n",
      "1     ash  patrick     1500000\n",
      "Index(['regions', 'minister', 'population'], dtype='object')\n",
      "RangeIndex(start=0, stop=4, step=1)\n"
     ]
    }
   ],
   "source": [
    "#some key methods on data frames\n",
    "print(data2.shape)\n",
    "print(data2.head(n=2))\n",
    "print(data2.columns)\n",
    "print(data2.index)"
   ]
  },
  {
   "cell_type": "code",
   "execution_count": 111,
   "id": "db6eff3e",
   "metadata": {},
   "outputs": [
    {
     "name": "stdout",
     "output_type": "stream",
     "text": [
      "        minister  population    food          popsq\n",
      "regions                                            \n",
      "accra     samson     2000000  kenkey  4000000000000\n",
      "ash      patrick     1500000    fufu  2250000000000\n",
      "eastern      aba     1000000    fufu  1000000000000\n",
      "volta       seth      800000   akple   640000000000\n"
     ]
    }
   ],
   "source": [
    "# assigning new columns\n",
    "data3['food'] = ['kenkey', 'fufu', 'fufu', 'akple']\n",
    "data3['popsq'] = data3['population'] *  data3['population'] \n",
    "\n",
    "print(data3)"
   ]
  },
  {
   "cell_type": "code",
   "execution_count": 94,
   "id": "65039dd6",
   "metadata": {},
   "outputs": [
    {
     "data": {
      "text/html": [
       "<div>\n",
       "<style scoped>\n",
       "    .dataframe tbody tr th:only-of-type {\n",
       "        vertical-align: middle;\n",
       "    }\n",
       "\n",
       "    .dataframe tbody tr th {\n",
       "        vertical-align: top;\n",
       "    }\n",
       "\n",
       "    .dataframe thead th {\n",
       "        text-align: right;\n",
       "    }\n",
       "</style>\n",
       "<table border=\"1\" class=\"dataframe\">\n",
       "  <thead>\n",
       "    <tr style=\"text-align: right;\">\n",
       "      <th></th>\n",
       "      <th>population</th>\n",
       "    </tr>\n",
       "    <tr>\n",
       "      <th>regions</th>\n",
       "      <th></th>\n",
       "    </tr>\n",
       "  </thead>\n",
       "  <tbody>\n",
       "    <tr>\n",
       "      <th>accra</th>\n",
       "      <td>2000000</td>\n",
       "    </tr>\n",
       "    <tr>\n",
       "      <th>ash</th>\n",
       "      <td>1500000</td>\n",
       "    </tr>\n",
       "    <tr>\n",
       "      <th>eastern</th>\n",
       "      <td>1000000</td>\n",
       "    </tr>\n",
       "    <tr>\n",
       "      <th>volta</th>\n",
       "      <td>800000</td>\n",
       "    </tr>\n",
       "  </tbody>\n",
       "</table>\n",
       "</div>"
      ],
      "text/plain": [
       "         population\n",
       "regions            \n",
       "accra       2000000\n",
       "ash         1500000\n",
       "eastern     1000000\n",
       "volta        800000"
      ]
     },
     "execution_count": 94,
     "metadata": {},
     "output_type": "execute_result"
    }
   ],
   "source": [
    "#dropping rows and columns\n",
    "#.drop rows using the axis =0 label\n",
    "data3.drop(['accra', 'ash'], axis = 0)\n",
    "\n",
    "#drop columns using the axis =1 label\n",
    "data3.drop(['minister', 'food'], axis = 1)\n"
   ]
  },
  {
   "cell_type": "markdown",
   "id": "3930f84a",
   "metadata": {},
   "source": [
    "## Selections or subletting"
   ]
  },
  {
   "cell_type": "code",
   "execution_count": 96,
   "id": "b3256c3f",
   "metadata": {},
   "outputs": [
    {
     "name": "stdout",
     "output_type": "stream",
     "text": [
      "0    2000000\n",
      "1    1500000\n",
      "2    1000000\n",
      "3     800000\n",
      "Name: population, dtype: int64\n",
      "   population minister\n",
      "0     2000000   samson\n",
      "1     1500000  patrick\n",
      "2     1000000      aba\n",
      "3      800000     seth\n"
     ]
    }
   ],
   "source": [
    "# select columns\n",
    "print(data2['population'])\n",
    "print(data2[['population','minister']])\n"
   ]
  },
  {
   "cell_type": "code",
   "execution_count": 97,
   "id": "fff5741a",
   "metadata": {},
   "outputs": [
    {
     "name": "stdout",
     "output_type": "stream",
     "text": [
      "  regions  population minister\n",
      "0   accra     2000000   samson\n",
      "1     ash     1500000  patrick\n"
     ]
    }
   ],
   "source": [
    "#column filtering\n",
    "print(data[data['population'] >1000000])"
   ]
  },
  {
   "cell_type": "markdown",
   "id": "a13f5786",
   "metadata": {},
   "source": [
    "## Advanced rows and columns using loc (axis labels) or iloc(axis position)"
   ]
  },
  {
   "cell_type": "code",
   "execution_count": 66,
   "id": "e88de201",
   "metadata": {},
   "outputs": [
    {
     "name": "stdout",
     "output_type": "stream",
     "text": [
      "         population minister    food\n",
      "regions                             \n",
      "accra       2000000   samson  kenkey\n",
      "ash         1500000  patrick    fufu\n",
      "eastern     1000000      aba    fufu\n",
      "volta        800000     seth   akple\n"
     ]
    }
   ],
   "source": [
    "print(data3)"
   ]
  },
  {
   "cell_type": "markdown",
   "id": "c83d98d2",
   "metadata": {},
   "source": [
    "### iLoc (axis values)"
   ]
  },
  {
   "cell_type": "code",
   "execution_count": 99,
   "id": "65dd6c1a",
   "metadata": {},
   "outputs": [
    {
     "data": {
      "text/plain": [
       "'kenkey'"
      ]
     },
     "execution_count": 99,
     "metadata": {},
     "output_type": "execute_result"
    }
   ],
   "source": [
    "#data3.iloc[rows_selection,  column_selection]\n",
    "data3.iloc[0 , 2]"
   ]
  },
  {
   "cell_type": "code",
   "execution_count": 101,
   "id": "2f489a02",
   "metadata": {},
   "outputs": [
    {
     "data": {
      "text/html": [
       "<div>\n",
       "<style scoped>\n",
       "    .dataframe tbody tr th:only-of-type {\n",
       "        vertical-align: middle;\n",
       "    }\n",
       "\n",
       "    .dataframe tbody tr th {\n",
       "        vertical-align: top;\n",
       "    }\n",
       "\n",
       "    .dataframe thead th {\n",
       "        text-align: right;\n",
       "    }\n",
       "</style>\n",
       "<table border=\"1\" class=\"dataframe\">\n",
       "  <thead>\n",
       "    <tr style=\"text-align: right;\">\n",
       "      <th></th>\n",
       "      <th>food</th>\n",
       "      <th>minister</th>\n",
       "    </tr>\n",
       "    <tr>\n",
       "      <th>regions</th>\n",
       "      <th></th>\n",
       "      <th></th>\n",
       "    </tr>\n",
       "  </thead>\n",
       "  <tbody>\n",
       "    <tr>\n",
       "      <th>accra</th>\n",
       "      <td>kenkey</td>\n",
       "      <td>samson</td>\n",
       "    </tr>\n",
       "    <tr>\n",
       "      <th>volta</th>\n",
       "      <td>akple</td>\n",
       "      <td>seth</td>\n",
       "    </tr>\n",
       "  </tbody>\n",
       "</table>\n",
       "</div>"
      ],
      "text/plain": [
       "           food minister\n",
       "regions                 \n",
       "accra    kenkey   samson\n",
       "volta     akple     seth"
      ]
     },
     "execution_count": 101,
     "metadata": {},
     "output_type": "execute_result"
    }
   ],
   "source": [
    "data3.iloc[[0,3] , [2, 0]]"
   ]
  },
  {
   "cell_type": "markdown",
   "id": "cb1eb256",
   "metadata": {},
   "source": [
    "### Loc (axis labels)"
   ]
  },
  {
   "cell_type": "code",
   "execution_count": 102,
   "id": "b4612fdd",
   "metadata": {},
   "outputs": [
    {
     "data": {
      "text/plain": [
       "'kenkey'"
      ]
     },
     "execution_count": 102,
     "metadata": {},
     "output_type": "execute_result"
    }
   ],
   "source": [
    "#select one row and one column based on labels\n",
    "data3.loc['accra', 'food']"
   ]
  },
  {
   "cell_type": "code",
   "execution_count": 103,
   "id": "7f9ba915",
   "metadata": {},
   "outputs": [
    {
     "data": {
      "text/html": [
       "<div>\n",
       "<style scoped>\n",
       "    .dataframe tbody tr th:only-of-type {\n",
       "        vertical-align: middle;\n",
       "    }\n",
       "\n",
       "    .dataframe tbody tr th {\n",
       "        vertical-align: top;\n",
       "    }\n",
       "\n",
       "    .dataframe thead th {\n",
       "        text-align: right;\n",
       "    }\n",
       "</style>\n",
       "<table border=\"1\" class=\"dataframe\">\n",
       "  <thead>\n",
       "    <tr style=\"text-align: right;\">\n",
       "      <th></th>\n",
       "      <th>food</th>\n",
       "      <th>population</th>\n",
       "    </tr>\n",
       "    <tr>\n",
       "      <th>regions</th>\n",
       "      <th></th>\n",
       "      <th></th>\n",
       "    </tr>\n",
       "  </thead>\n",
       "  <tbody>\n",
       "    <tr>\n",
       "      <th>accra</th>\n",
       "      <td>kenkey</td>\n",
       "      <td>2000000</td>\n",
       "    </tr>\n",
       "    <tr>\n",
       "      <th>volta</th>\n",
       "      <td>akple</td>\n",
       "      <td>800000</td>\n",
       "    </tr>\n",
       "  </tbody>\n",
       "</table>\n",
       "</div>"
      ],
      "text/plain": [
       "           food  population\n",
       "regions                    \n",
       "accra    kenkey     2000000\n",
       "volta     akple      800000"
      ]
     },
     "execution_count": 103,
     "metadata": {},
     "output_type": "execute_result"
    }
   ],
   "source": [
    "#select many rows and columns based on labels (loc)\n",
    "data3.loc[['accra','volta'], ['food', 'population']]"
   ]
  },
  {
   "cell_type": "markdown",
   "id": "627c6682",
   "metadata": {},
   "source": [
    "# Saving and importing data   \n",
    "\n",
    "## Common and consistent ways to save common files   \n",
    "a. nameofdataframe.to_json('adress)   eg. if you want to save data3 toa json format: data3.to_json('data3tojson.json')\n",
    "b. .to_html()   \n",
    "c. .to_sql()   \n",
    "d. .to_pickle()  \n",
    "f. namedf.to_csv(\"address\")\n",
    "\n",
    "## Common and consistent ways to read common files    \n",
    "a.pandas.read_json(): eg   pandas.read_csv('data3tojson.json')\n",
    "b. read_html()   \n",
    "c. read_sql()   \n",
    "d. read_pickle()"
   ]
  },
  {
   "cell_type": "markdown",
   "id": "514b15cc",
   "metadata": {},
   "source": [
    "# Save and import a CSV file"
   ]
  },
  {
   "cell_type": "code",
   "execution_count": 123,
   "id": "80acbf3f",
   "metadata": {},
   "outputs": [
    {
     "name": "stdout",
     "output_type": "stream",
     "text": [
      "        minister  population    food          popsq\n",
      "regions                                            \n",
      "accra     samson     2000000  kenkey  4000000000000\n",
      "ash      patrick     1500000    fufu  2250000000000\n",
      "eastern      aba     1000000    fufu  1000000000000\n",
      "volta       seth      800000   akple   640000000000\n"
     ]
    }
   ],
   "source": [
    "# Save to csv\n",
    "print(data3)"
   ]
  },
  {
   "cell_type": "code",
   "execution_count": 124,
   "id": "6df5efad",
   "metadata": {},
   "outputs": [],
   "source": [
    "data3.to_csv(\"ghanadata.csv\") #write_csv()"
   ]
  },
  {
   "cell_type": "code",
   "execution_count": 128,
   "id": "634cb076",
   "metadata": {},
   "outputs": [
    {
     "name": "stdout",
     "output_type": "stream",
     "text": [
      "   regions minister  population    food          popsq\n",
      "0    accra   samson     2000000  kenkey  4000000000000\n",
      "1      ash  patrick     1500000    fufu  2250000000000\n",
      "2  eastern      aba     1000000    fufu  1000000000000\n",
      "3    volta     seth      800000   akple   640000000000\n"
     ]
    }
   ],
   "source": [
    "newdata = pd.read_csv(\"ghanadata.csv\")\n",
    "print(newdata)"
   ]
  },
  {
   "cell_type": "markdown",
   "id": "2b62da8f",
   "metadata": {},
   "source": [
    "# Json files"
   ]
  },
  {
   "cell_type": "code",
   "execution_count": 129,
   "id": "c3cd6e3a",
   "metadata": {},
   "outputs": [
    {
     "name": "stdout",
     "output_type": "stream",
     "text": [
      "{'Sub_ID': ['1', '2', '3', '4', '5', '6', '7', '8'], 'Name': ['Erik', 'Daniel', 'Michael', 'Sven', 'Gary', 'Carol', 'Lisa', 'Elisabeth'], 'Salary': ['723.3', '515.2', '621', '731', '844.15', '558', '642.8', '732.5'], 'StartDate': ['1/1/2011', '7/23/2013', '12/15/2011', '6/11/2013', '3/27/2011', '5/21/2012', '7/30/2013', '6/17/2014'], 'Department': ['IT', 'Manegement', 'IT', 'HR', 'Finance', 'IT', 'Manegement', 'IT'], 'Sex': ['M', 'M', 'M', 'M', 'M', 'F', 'F', 'F']}\n"
     ]
    }
   ],
   "source": [
    "import json\n",
    "\n",
    "# Creating a Python Dictionary\n",
    "data = {\"Sub_ID\":[\"1\",\"2\",\"3\",\"4\",\"5\",\"6\",\"7\",\"8\" ],\n",
    "        \"Name\":[\"Erik\", \"Daniel\", \"Michael\", \"Sven\",\n",
    "                \"Gary\", \"Carol\",\"Lisa\", \"Elisabeth\" ],\n",
    "        \"Salary\":[\"723.3\", \"515.2\", \"621\", \"731\", \n",
    "                  \"844.15\",\"558\", \"642.8\", \"732.5\" ],\n",
    "        \"StartDate\":[ \"1/1/2011\", \"7/23/2013\", \"12/15/2011\",\n",
    "                     \"6/11/2013\", \"3/27/2011\",\"5/21/2012\", \n",
    "                     \"7/30/2013\", \"6/17/2014\"],\n",
    "        \"Department\":[ \"IT\", \"Manegement\", \"IT\", \"HR\", \n",
    "                      \"Finance\", \"IT\", \"Manegement\", \"IT\"],\n",
    "        \"Sex\":[ \"M\", \"M\", \"M\", \n",
    "              \"M\", \"M\", \"F\", \"F\", \"F\"]}\n",
    "\n",
    "print(data)"
   ]
  },
  {
   "cell_type": "code",
   "execution_count": 114,
   "id": "22ca9369",
   "metadata": {},
   "outputs": [],
   "source": []
  },
  {
   "cell_type": "code",
   "execution_count": 130,
   "id": "b13caf15",
   "metadata": {},
   "outputs": [],
   "source": [
    "import json\n",
    "\n",
    "# Parse JSON\n",
    "with open('data.json', 'w') as outfile:\n",
    "    json.dump(data, outfile)"
   ]
  },
  {
   "cell_type": "code",
   "execution_count": 131,
   "id": "2627d0b4",
   "metadata": {},
   "outputs": [
    {
     "data": {
      "text/html": [
       "<div>\n",
       "<style scoped>\n",
       "    .dataframe tbody tr th:only-of-type {\n",
       "        vertical-align: middle;\n",
       "    }\n",
       "\n",
       "    .dataframe tbody tr th {\n",
       "        vertical-align: top;\n",
       "    }\n",
       "\n",
       "    .dataframe thead th {\n",
       "        text-align: right;\n",
       "    }\n",
       "</style>\n",
       "<table border=\"1\" class=\"dataframe\">\n",
       "  <thead>\n",
       "    <tr style=\"text-align: right;\">\n",
       "      <th></th>\n",
       "      <th>Sub_ID</th>\n",
       "      <th>Name</th>\n",
       "      <th>Salary</th>\n",
       "      <th>StartDate</th>\n",
       "      <th>Department</th>\n",
       "      <th>Sex</th>\n",
       "    </tr>\n",
       "  </thead>\n",
       "  <tbody>\n",
       "    <tr>\n",
       "      <th>0</th>\n",
       "      <td>1</td>\n",
       "      <td>Erik</td>\n",
       "      <td>723.30</td>\n",
       "      <td>1/1/2011</td>\n",
       "      <td>IT</td>\n",
       "      <td>M</td>\n",
       "    </tr>\n",
       "    <tr>\n",
       "      <th>1</th>\n",
       "      <td>2</td>\n",
       "      <td>Daniel</td>\n",
       "      <td>515.20</td>\n",
       "      <td>7/23/2013</td>\n",
       "      <td>Manegement</td>\n",
       "      <td>M</td>\n",
       "    </tr>\n",
       "    <tr>\n",
       "      <th>2</th>\n",
       "      <td>3</td>\n",
       "      <td>Michael</td>\n",
       "      <td>621.00</td>\n",
       "      <td>12/15/2011</td>\n",
       "      <td>IT</td>\n",
       "      <td>M</td>\n",
       "    </tr>\n",
       "    <tr>\n",
       "      <th>3</th>\n",
       "      <td>4</td>\n",
       "      <td>Sven</td>\n",
       "      <td>731.00</td>\n",
       "      <td>6/11/2013</td>\n",
       "      <td>HR</td>\n",
       "      <td>M</td>\n",
       "    </tr>\n",
       "    <tr>\n",
       "      <th>4</th>\n",
       "      <td>5</td>\n",
       "      <td>Gary</td>\n",
       "      <td>844.15</td>\n",
       "      <td>3/27/2011</td>\n",
       "      <td>Finance</td>\n",
       "      <td>M</td>\n",
       "    </tr>\n",
       "    <tr>\n",
       "      <th>5</th>\n",
       "      <td>6</td>\n",
       "      <td>Carol</td>\n",
       "      <td>558.00</td>\n",
       "      <td>5/21/2012</td>\n",
       "      <td>IT</td>\n",
       "      <td>F</td>\n",
       "    </tr>\n",
       "    <tr>\n",
       "      <th>6</th>\n",
       "      <td>7</td>\n",
       "      <td>Lisa</td>\n",
       "      <td>642.80</td>\n",
       "      <td>7/30/2013</td>\n",
       "      <td>Manegement</td>\n",
       "      <td>F</td>\n",
       "    </tr>\n",
       "    <tr>\n",
       "      <th>7</th>\n",
       "      <td>8</td>\n",
       "      <td>Elisabeth</td>\n",
       "      <td>732.50</td>\n",
       "      <td>6/17/2014</td>\n",
       "      <td>IT</td>\n",
       "      <td>F</td>\n",
       "    </tr>\n",
       "  </tbody>\n",
       "</table>\n",
       "</div>"
      ],
      "text/plain": [
       "   Sub_ID       Name  Salary   StartDate  Department Sex\n",
       "0       1       Erik  723.30    1/1/2011          IT   M\n",
       "1       2     Daniel  515.20   7/23/2013  Manegement   M\n",
       "2       3    Michael  621.00  12/15/2011          IT   M\n",
       "3       4       Sven  731.00   6/11/2013          HR   M\n",
       "4       5       Gary  844.15   3/27/2011     Finance   M\n",
       "5       6      Carol  558.00   5/21/2012          IT   F\n",
       "6       7       Lisa  642.80   7/30/2013  Manegement   F\n",
       "7       8  Elisabeth  732.50   6/17/2014          IT   F"
      ]
     },
     "execution_count": 131,
     "metadata": {},
     "output_type": "execute_result"
    }
   ],
   "source": [
    "dfjson = pd.read_json('data.json')\n",
    "\n",
    "dfjson"
   ]
  },
  {
   "cell_type": "code",
   "execution_count": 133,
   "id": "b1579254",
   "metadata": {},
   "outputs": [
    {
     "data": {
      "text/plain": [
       "['BooleanDtype',\n",
       " 'Categorical',\n",
       " 'CategoricalDtype',\n",
       " 'CategoricalIndex',\n",
       " 'DataFrame',\n",
       " 'DateOffset',\n",
       " 'DatetimeIndex',\n",
       " 'DatetimeTZDtype',\n",
       " 'ExcelFile',\n",
       " 'ExcelWriter',\n",
       " 'Flags',\n",
       " 'Float32Dtype',\n",
       " 'Float64Dtype',\n",
       " 'Float64Index',\n",
       " 'Grouper',\n",
       " 'HDFStore',\n",
       " 'Index',\n",
       " 'IndexSlice',\n",
       " 'Int16Dtype',\n",
       " 'Int32Dtype',\n",
       " 'Int64Dtype',\n",
       " 'Int64Index',\n",
       " 'Int8Dtype',\n",
       " 'Interval',\n",
       " 'IntervalDtype',\n",
       " 'IntervalIndex',\n",
       " 'MultiIndex',\n",
       " 'NA',\n",
       " 'NaT',\n",
       " 'NamedAgg',\n",
       " 'Period',\n",
       " 'PeriodDtype',\n",
       " 'PeriodIndex',\n",
       " 'RangeIndex',\n",
       " 'Series',\n",
       " 'SparseDtype',\n",
       " 'StringDtype',\n",
       " 'Timedelta',\n",
       " 'TimedeltaIndex',\n",
       " 'Timestamp',\n",
       " 'UInt16Dtype',\n",
       " 'UInt32Dtype',\n",
       " 'UInt64Dtype',\n",
       " 'UInt64Index',\n",
       " 'UInt8Dtype',\n",
       " '__builtins__',\n",
       " '__cached__',\n",
       " '__doc__',\n",
       " '__docformat__',\n",
       " '__file__',\n",
       " '__getattr__',\n",
       " '__git_version__',\n",
       " '__loader__',\n",
       " '__name__',\n",
       " '__package__',\n",
       " '__path__',\n",
       " '__spec__',\n",
       " '__version__',\n",
       " '_config',\n",
       " '_hashtable',\n",
       " '_is_numpy_dev',\n",
       " '_lib',\n",
       " '_libs',\n",
       " '_np_version_under1p18',\n",
       " '_testing',\n",
       " '_tslib',\n",
       " '_typing',\n",
       " '_version',\n",
       " 'api',\n",
       " 'array',\n",
       " 'arrays',\n",
       " 'bdate_range',\n",
       " 'compat',\n",
       " 'concat',\n",
       " 'core',\n",
       " 'crosstab',\n",
       " 'cut',\n",
       " 'date_range',\n",
       " 'describe_option',\n",
       " 'errors',\n",
       " 'eval',\n",
       " 'factorize',\n",
       " 'get_dummies',\n",
       " 'get_option',\n",
       " 'infer_freq',\n",
       " 'interval_range',\n",
       " 'io',\n",
       " 'isna',\n",
       " 'isnull',\n",
       " 'json_normalize',\n",
       " 'lreshape',\n",
       " 'melt',\n",
       " 'merge',\n",
       " 'merge_asof',\n",
       " 'merge_ordered',\n",
       " 'notna',\n",
       " 'notnull',\n",
       " 'offsets',\n",
       " 'option_context',\n",
       " 'options',\n",
       " 'pandas',\n",
       " 'period_range',\n",
       " 'pivot',\n",
       " 'pivot_table',\n",
       " 'plotting',\n",
       " 'qcut',\n",
       " 'read_clipboard',\n",
       " 'read_csv',\n",
       " 'read_excel',\n",
       " 'read_feather',\n",
       " 'read_fwf',\n",
       " 'read_gbq',\n",
       " 'read_hdf',\n",
       " 'read_html',\n",
       " 'read_json',\n",
       " 'read_orc',\n",
       " 'read_parquet',\n",
       " 'read_pickle',\n",
       " 'read_sas',\n",
       " 'read_spss',\n",
       " 'read_sql',\n",
       " 'read_sql_query',\n",
       " 'read_sql_table',\n",
       " 'read_stata',\n",
       " 'read_table',\n",
       " 'read_xml',\n",
       " 'reset_option',\n",
       " 'set_eng_float_format',\n",
       " 'set_option',\n",
       " 'show_versions',\n",
       " 'test',\n",
       " 'testing',\n",
       " 'timedelta_range',\n",
       " 'to_datetime',\n",
       " 'to_numeric',\n",
       " 'to_pickle',\n",
       " 'to_timedelta',\n",
       " 'tseries',\n",
       " 'unique',\n",
       " 'util',\n",
       " 'value_counts',\n",
       " 'wide_to_long']"
      ]
     },
     "execution_count": 133,
     "metadata": {},
     "output_type": "execute_result"
    }
   ],
   "source": [
    "dir(pd)"
   ]
  },
  {
   "cell_type": "markdown",
   "id": "da152b02",
   "metadata": {},
   "source": [
    "# Excel files  \n",
    "## Key packages to install   \n",
    "a. xlwt to write to .xls files   \n",
    "b. openpyxl or XlsxWriter to write to .xlsx files   \n",
    "c. xlrd to read Excel files"
   ]
  },
  {
   "cell_type": "code",
   "execution_count": 118,
   "id": "1c284d63",
   "metadata": {},
   "outputs": [
    {
     "name": "stdout",
     "output_type": "stream",
     "text": [
      "Requirement already satisfied: xlwt in c:\\users\\erica\\anaconda3\\envs\\sql\\lib\\site-packages (1.3.0)\n",
      "Requirement already satisfied: openpyxl in c:\\users\\erica\\anaconda3\\envs\\sql\\lib\\site-packages (3.0.8)\n",
      "Requirement already satisfied: xlsxwriter in c:\\users\\erica\\anaconda3\\envs\\sql\\lib\\site-packages (3.0.1)\n",
      "Requirement already satisfied: xlrd in c:\\users\\erica\\anaconda3\\envs\\sql\\lib\\site-packages (2.0.1)\n",
      "Requirement already satisfied: et-xmlfile in c:\\users\\erica\\anaconda3\\envs\\sql\\lib\\site-packages (from openpyxl) (1.1.0)\n"
     ]
    }
   ],
   "source": [
    "!pip install xlwt openpyxl xlsxwriter xlrd"
   ]
  },
  {
   "cell_type": "code",
   "execution_count": 135,
   "id": "b2fc6c3f",
   "metadata": {},
   "outputs": [],
   "source": [
    "data3.to_excel('data3.xlsx')\n"
   ]
  },
  {
   "cell_type": "markdown",
   "id": "1bb36270",
   "metadata": {},
   "source": [
    "# Introduction to Databases"
   ]
  },
  {
   "cell_type": "markdown",
   "id": "71bf7d86",
   "metadata": {},
   "source": [
    "# Databases: Containers for storing similar information  \n",
    "\n",
    "![source:Broadcom Inc](bd.jpg)   \n",
    "\n",
    "# Top Databases in the world   \n",
    "\n",
    "![source: virtual studio magazine](topdb.png)   \n",
    "\n",
    "# Relational Database\n",
    ".\n",
    "![source:clicData](relation.png)   \n",
    "\n",
    "# Non-Relational Database   \n",
    "\n",
    "![source:programmer](NoSQL.jpg)"
   ]
  },
  {
   "cell_type": "code",
   "execution_count": null,
   "id": "e1dcb4a6",
   "metadata": {},
   "outputs": [],
   "source": []
  }
 ],
 "metadata": {
  "kernelspec": {
   "display_name": "Python 3 (ipykernel)",
   "language": "python",
   "name": "python3"
  },
  "language_info": {
   "codemirror_mode": {
    "name": "ipython",
    "version": 3
   },
   "file_extension": ".py",
   "mimetype": "text/x-python",
   "name": "python",
   "nbconvert_exporter": "python",
   "pygments_lexer": "ipython3",
   "version": "3.9.6"
  }
 },
 "nbformat": 4,
 "nbformat_minor": 5
}
