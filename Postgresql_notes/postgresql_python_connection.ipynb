{
 "cells": [
  {
   "cell_type": "code",
   "execution_count": null,
   "source": [
    "#pip install pandas\r\n",
    "#pip install sqlalchemy # ORM for databases\r\n",
    "#pip install ipython-sql # SQL magic function\r\n",
    "#!pip install mysqlclient\r\n",
    "!pip install psycopg2"
   ],
   "outputs": [],
   "metadata": {}
  }
 ],
 "metadata": {
  "orig_nbformat": 4,
  "language_info": {
   "name": "plaintext"
  }
 },
 "nbformat": 4,
 "nbformat_minor": 2
}